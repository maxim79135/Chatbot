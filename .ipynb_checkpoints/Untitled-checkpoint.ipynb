{
 "cells": [
  {
   "cell_type": "code",
   "execution_count": 1,
   "id": "classical-baghdad",
   "metadata": {},
   "outputs": [
    {
     "name": "stdout",
     "output_type": "stream",
     "text": [
      "Defaulting to user installation because normal site-packages is not writeable\n",
      "Collecting pytelegrambotapi\n",
      "  Downloading pyTelegramBotAPI-3.7.9.tar.gz (90 kB)\n",
      "\u001b[K     |████████████████████████████████| 90 kB 866 kB/s eta 0:00:01\n",
      "\u001b[?25hRequirement already satisfied: requests in /home/justaman/.local/lib/python3.6/site-packages (from pytelegrambotapi) (2.25.1)\n",
      "Requirement already satisfied: chardet<5,>=3.0.2 in /usr/lib/python3/dist-packages (from requests->pytelegrambotapi) (3.0.4)\n",
      "Requirement already satisfied: idna<3,>=2.5 in /usr/lib/python3/dist-packages (from requests->pytelegrambotapi) (2.6)\n",
      "Requirement already satisfied: certifi>=2017.4.17 in /usr/lib/python3/dist-packages (from requests->pytelegrambotapi) (2018.1.18)\n",
      "Requirement already satisfied: urllib3<1.27,>=1.21.1 in /usr/lib/python3/dist-packages (from requests->pytelegrambotapi) (1.22)\n",
      "Building wheels for collected packages: pytelegrambotapi\n",
      "  Building wheel for pytelegrambotapi (setup.py) ... \u001b[?25ldone\n",
      "\u001b[?25h  Created wheel for pytelegrambotapi: filename=pyTelegramBotAPI-3.7.9-py3-none-any.whl size=67900 sha256=0ab87bf154c325b7aba869f0cb399df5312d4b37d1e71023de6d7a20a27596f9\n",
      "  Stored in directory: /home/justaman/.cache/pip/wheels/83/9b/13/305ddb6eca675b2cbf90d007d25246cb20b74b0dd408a91f70\n",
      "Successfully built pytelegrambotapi\n",
      "Installing collected packages: pytelegrambotapi\n",
      "Successfully installed pytelegrambotapi-3.7.9\n",
      "\u001b[33mWARNING: You are using pip version 21.0.1; however, version 21.1.1 is available.\n",
      "You should consider upgrading via the '/usr/bin/python3 -m pip install --upgrade pip' command.\u001b[0m\n"
     ]
    }
   ],
   "source": [
    "!pip install pytelegrambotapi"
   ]
  },
  {
   "cell_type": "code",
   "execution_count": null,
   "id": "induced-agent",
   "metadata": {},
   "outputs": [],
   "source": [
    "no_patterns =[\n",
    "    'нет',\n",
    "    'неа',\n",
    "    'не',\n",
    "    'н',\n",
    "    'не хочу',\n",
    "    'no',\n",
    "    'nope',\n",
    "]\n",
    "yes_patterns =[\n",
    "    'д',\n",
    "    'да{0,30}',\n",
    "    'ага',\n",
    "    'угу',\n",
    "    'хочу',\n",
    "    'yes',\n",
    "    'yeap',\n",
    "    'yeap',\n",
    "]"
   ]
  },
  {
   "cell_type": "code",
   "execution_count": 1,
   "id": "rental-hepatitis",
   "metadata": {},
   "outputs": [],
   "source": [
    "import telebot;\n",
    "bot = telebot.TeleBot('1147885266:AAFNCRzr3aDZacN5CQ55EHNx7pK35RKdejw');\n"
   ]
  },
  {
   "cell_type": "code",
   "execution_count": 3,
   "id": "acceptable-basics",
   "metadata": {},
   "outputs": [
    {
     "ename": "SyntaxError",
     "evalue": "unexpected EOF while parsing (<ipython-input-3-02b3892e6bf8>, line 2)",
     "output_type": "error",
     "traceback": [
      "\u001b[0;36m  File \u001b[0;32m\"<ipython-input-3-02b3892e6bf8>\"\u001b[0;36m, line \u001b[0;32m2\u001b[0m\n\u001b[0;31m    def get_text_messages(message):\u001b[0m\n\u001b[0m                                   ^\u001b[0m\n\u001b[0;31mSyntaxError\u001b[0m\u001b[0;31m:\u001b[0m unexpected EOF while parsing\n"
     ]
    }
   ],
   "source": [
    "@bot.message_handler(content_types=['text'])\n",
    "def get_text_messages(message):"
   ]
  },
  {
   "cell_type": "code",
   "execution_count": 2,
   "id": "sharp-projection",
   "metadata": {},
   "outputs": [],
   "source": [
    "@bot.message_handler(commands=['start'])\n",
    "def command_start(message):\n",
    "    # if user exist\n",
    "    #     bot.send_message('У меня уже есть информация о тебе.\\nХочешь что то изменить?')\n",
    "    #     bot.register_next_step_handler(message, get_name); \n",
    "    bot.send_message(message.chat.id, text=\"Саламалейкум\")"
   ]
  },
  {
   "cell_type": "code",
   "execution_count": null,
   "id": "freelance-somalia",
   "metadata": {},
   "outputs": [],
   "source": [
    "bot.polling()"
   ]
  }
 ],
 "metadata": {
  "kernelspec": {
   "display_name": "bot_env",
   "language": "python",
   "name": "bot_env"
  },
  "language_info": {
   "codemirror_mode": {
    "name": "ipython",
    "version": 3
   },
   "file_extension": ".py",
   "mimetype": "text/x-python",
   "name": "python",
   "nbconvert_exporter": "python",
   "pygments_lexer": "ipython3",
   "version": "3.6.9"
  }
 },
 "nbformat": 4,
 "nbformat_minor": 5
}
