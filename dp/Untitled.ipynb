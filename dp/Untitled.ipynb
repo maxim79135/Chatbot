{
 "cells": [
  {
   "cell_type": "code",
   "execution_count": 5,
   "id": "spoken-bread",
   "metadata": {},
   "outputs": [
    {
     "name": "stderr",
     "output_type": "stream",
     "text": [
      "/home/justaman/.local/lib/python3.6/site-packages/sklearn/base.py:306: UserWarning: Trying to unpickle estimator TfidfTransformer from version 0.19.1 when using version 0.21.2. This might lead to breaking code or invalid results. Use at your own risk.\n",
      "  UserWarning)\n",
      "/home/justaman/.local/lib/python3.6/site-packages/sklearn/base.py:306: UserWarning: Trying to unpickle estimator TfidfVectorizer from version 0.19.1 when using version 0.21.2. This might lead to breaking code or invalid results. Use at your own risk.\n",
      "  UserWarning)\n"
     ]
    }
   ],
   "source": [
    "import pickle\n",
    "\n",
    "with open('faq_model_base.pkl', 'rb') as mf:\n",
    "    model = pickle.load(mf)"
   ]
  },
  {
   "cell_type": "code",
   "execution_count": 35,
   "id": "backed-basic",
   "metadata": {},
   "outputs": [
    {
     "data": {
      "text/plain": [
       "[['Профком сотрудников находится по адресу:\\nКиров, ул. Московская, 36 (корпус №1). Кабинет №100.\\n\\nТел. 8 (8332) 64-09-25, вн. 1-73 \\nE-mail: profcom_sotr@vyatsu.ru\\nРежим работы: пн-чт: 9.00 – 17.00; пт: 9.00 – 16.00. Обед: с 12.00 до 13.00\\n\\nПодробнее https://www.vyatsu.ru/sotrudniku/struktura-vyatgu/profsoyuz-rabotnikov-vyatgu.html'],\n",
       " [0.64]]"
      ]
     },
     "execution_count": 35,
     "metadata": {},
     "output_type": "execute_result"
    }
   ],
   "source": [
    "model(['профком сотрудников'])"
   ]
  },
  {
   "cell_type": "code",
   "execution_count": 10,
   "id": "gentle-coordinator",
   "metadata": {},
   "outputs": [
    {
     "data": {
      "text/plain": [
       "[['Для этого необходимо подать заявление в отделе координации работы со студентами (5-105, 14-101, 15-206а, 8-209) или в личном кабинете в разделе Документы (https://new.vyatsu.ru/account/documents/)'],\n",
       " [0.28]]"
      ]
     },
     "execution_count": 10,
     "metadata": {},
     "output_type": "execute_result"
    }
   ],
   "source": [
    "model(['где получить справку по месту требования'])"
   ]
  },
  {
   "cell_type": "code",
   "execution_count": 20,
   "id": "involved-macro",
   "metadata": {},
   "outputs": [
    {
     "ename": "TypeError",
     "evalue": "__init__() got an unexpected keyword argument 'lang'",
     "output_type": "error",
     "traceback": [
      "\u001b[0;31m---------------------------------------------------------------------------\u001b[0m",
      "\u001b[0;31mTypeError\u001b[0m                                 Traceback (most recent call last)",
      "\u001b[0;32m<ipython-input-20-39b0044ca88b>\u001b[0m in \u001b[0;36m<module>\u001b[0;34m\u001b[0m\n\u001b[1;32m      1\u001b[0m \u001b[0;32mimport\u001b[0m \u001b[0mpymorphy2\u001b[0m\u001b[0;34m\u001b[0m\u001b[0;34m\u001b[0m\u001b[0m\n\u001b[1;32m      2\u001b[0m \u001b[0mmorph\u001b[0m \u001b[0;34m=\u001b[0m \u001b[0mpymorphy2\u001b[0m\u001b[0;34m.\u001b[0m\u001b[0mMorphAnalyzer\u001b[0m\u001b[0;34m(\u001b[0m\u001b[0;34m)\u001b[0m\u001b[0;34m\u001b[0m\u001b[0;34m\u001b[0m\u001b[0m\n\u001b[0;32m----> 3\u001b[0;31m \u001b[0mmorph\u001b[0m \u001b[0;34m=\u001b[0m \u001b[0mpymorphy2\u001b[0m\u001b[0;34m.\u001b[0m\u001b[0mMorphAnalyzer\u001b[0m\u001b[0;34m(\u001b[0m\u001b[0mlang\u001b[0m\u001b[0;34m=\u001b[0m\u001b[0;34m'ru'\u001b[0m\u001b[0;34m)\u001b[0m\u001b[0;34m\u001b[0m\u001b[0;34m\u001b[0m\u001b[0m\n\u001b[0m",
      "\u001b[0;31mTypeError\u001b[0m: __init__() got an unexpected keyword argument 'lang'"
     ]
    }
   ],
   "source": [
    "import pymorphy2\n",
    "morph = pymorphy2.MorphAnalyzer()\n",
    "morph = pymorphy2.MorphAnalyzer(lang='ru')"
   ]
  },
  {
   "cell_type": "code",
   "execution_count": 21,
   "id": "twenty-monster",
   "metadata": {},
   "outputs": [],
   "source": [
    "from deeppavlov import configs\n"
   ]
  },
  {
   "cell_type": "code",
   "execution_count": 22,
   "id": "commercial-thomson",
   "metadata": {},
   "outputs": [],
   "source": [
    "from deeppavlov.core.common.file import read_json\n",
    "from deeppavlov import build_model, train_model\n",
    "data_path = 'datasets/train_new2.csv'"
   ]
  }
 ],
 "metadata": {
  "kernelspec": {
   "display_name": "bot_env",
   "language": "python",
   "name": "bot_env"
  },
  "language_info": {
   "codemirror_mode": {
    "name": "ipython",
    "version": 3
   },
   "file_extension": ".py",
   "mimetype": "text/x-python",
   "name": "python",
   "nbconvert_exporter": "python",
   "pygments_lexer": "ipython3",
   "version": "3.6.9"
  }
 },
 "nbformat": 4,
 "nbformat_minor": 5
}
