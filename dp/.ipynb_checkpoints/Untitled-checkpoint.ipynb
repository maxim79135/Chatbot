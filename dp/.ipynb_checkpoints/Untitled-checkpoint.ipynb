{
 "cells": [
  {
   "cell_type": "code",
   "execution_count": 2,
   "id": "rural-flashing",
   "metadata": {},
   "outputs": [
    {
     "name": "stdout",
     "output_type": "stream",
     "text": [
      "Requirement already satisfied: deeppavlov in /home/justaman/education/8/cource_work/bot_env/lib/python3.6/site-packages (0.15.0)\n",
      "Requirement already satisfied: uvicorn==0.11.7 in /home/justaman/education/8/cource_work/bot_env/lib/python3.6/site-packages (from deeppavlov) (0.11.7)\n",
      "Requirement already satisfied: scikit-learn==0.21.2 in /home/justaman/education/8/cource_work/bot_env/lib/python3.6/site-packages (from deeppavlov) (0.21.2)\n",
      "Requirement already satisfied: pytelegrambotapi==3.6.7 in /home/justaman/education/8/cource_work/bot_env/lib/python3.6/site-packages (from deeppavlov) (3.6.7)\n",
      "Requirement already satisfied: pymorphy2-dicts-ru in /home/justaman/education/8/cource_work/bot_env/lib/python3.6/site-packages (from deeppavlov) (2.4.417127.4579844)\n",
      "Requirement already satisfied: pydantic==1.3 in /home/justaman/education/8/cource_work/bot_env/lib/python3.6/site-packages (from deeppavlov) (1.3)\n",
      "Requirement already satisfied: ruamel.yaml==0.15.100 in /home/justaman/education/8/cource_work/bot_env/lib/python3.6/site-packages (from deeppavlov) (0.15.100)\n",
      "Requirement already satisfied: pyopenssl==19.1.0 in /home/justaman/education/8/cource_work/bot_env/lib/python3.6/site-packages (from deeppavlov) (19.1.0)\n",
      "Requirement already satisfied: fastapi==0.47.1 in /home/justaman/education/8/cource_work/bot_env/lib/python3.6/site-packages (from deeppavlov) (0.47.1)\n",
      "Requirement already satisfied: filelock==3.0.12 in /home/justaman/education/8/cource_work/bot_env/lib/python3.6/site-packages (from deeppavlov) (3.0.12)\n",
      "Requirement already satisfied: requests==2.22.0 in /home/justaman/education/8/cource_work/bot_env/lib/python3.6/site-packages (from deeppavlov) (2.22.0)\n",
      "Requirement already satisfied: aio-pika==6.4.1 in /home/justaman/education/8/cource_work/bot_env/lib/python3.6/site-packages (from deeppavlov) (6.4.1)\n",
      "Requirement already satisfied: pandas==0.25.3 in /home/justaman/education/8/cource_work/bot_env/lib/python3.6/site-packages (from deeppavlov) (0.25.3)\n",
      "Requirement already satisfied: Cython==0.29.14 in /home/justaman/education/8/cource_work/bot_env/lib/python3.6/site-packages (from deeppavlov) (0.29.14)\n",
      "Requirement already satisfied: pymorphy2==0.8 in /home/justaman/education/8/cource_work/bot_env/lib/python3.6/site-packages (from deeppavlov) (0.8)\n",
      "Requirement already satisfied: prometheus-client==0.7.1 in /home/justaman/education/8/cource_work/bot_env/lib/python3.6/site-packages (from deeppavlov) (0.7.1)\n",
      "Requirement already satisfied: uvloop==0.14.0 in /home/justaman/education/8/cource_work/bot_env/lib/python3.6/site-packages (from deeppavlov) (0.14.0)\n",
      "Requirement already satisfied: sacremoses==0.0.35 in /home/justaman/education/8/cource_work/bot_env/lib/python3.6/site-packages (from deeppavlov) (0.0.35)\n",
      "Requirement already satisfied: pytz==2019.1 in /home/justaman/education/8/cource_work/bot_env/lib/python3.6/site-packages (from deeppavlov) (2019.1)\n",
      "Requirement already satisfied: nltk==3.4.5 in /home/justaman/education/8/cource_work/bot_env/lib/python3.6/site-packages (from deeppavlov) (3.4.5)\n",
      "Requirement already satisfied: h5py==2.10.0 in /home/justaman/education/8/cource_work/bot_env/lib/python3.6/site-packages (from deeppavlov) (2.10.0)\n",
      "Requirement already satisfied: click==7.1.2 in /home/justaman/education/8/cource_work/bot_env/lib/python3.6/site-packages (from deeppavlov) (7.1.2)\n",
      "Requirement already satisfied: tqdm==4.41.1 in /home/justaman/education/8/cource_work/bot_env/lib/python3.6/site-packages (from deeppavlov) (4.41.1)\n",
      "Requirement already satisfied: numpy==1.18.0 in /home/justaman/education/8/cource_work/bot_env/lib/python3.6/site-packages (from deeppavlov) (1.18.0)\n",
      "Requirement already satisfied: scipy==1.4.1 in /home/justaman/education/8/cource_work/bot_env/lib/python3.6/site-packages (from deeppavlov) (1.4.1)\n",
      "Requirement already satisfied: rusenttokenize==0.0.5 in /home/justaman/education/8/cource_work/bot_env/lib/python3.6/site-packages (from deeppavlov) (0.0.5)\n",
      "Requirement already satisfied: overrides==2.7.0 in /home/justaman/education/8/cource_work/bot_env/lib/python3.6/site-packages (from deeppavlov) (2.7.0)\n",
      "Requirement already satisfied: aiormq<4,>=3.2.0 in /home/justaman/education/8/cource_work/bot_env/lib/python3.6/site-packages (from aio-pika==6.4.1->deeppavlov) (3.3.1)\n",
      "Requirement already satisfied: yarl in /home/justaman/education/8/cource_work/bot_env/lib/python3.6/site-packages (from aio-pika==6.4.1->deeppavlov) (1.6.3)\n",
      "Requirement already satisfied: starlette<=0.12.9,>=0.12.9 in /home/justaman/education/8/cource_work/bot_env/lib/python3.6/site-packages (from fastapi==0.47.1->deeppavlov) (0.12.9)\n",
      "Requirement already satisfied: six in /home/justaman/education/8/cource_work/bot_env/lib/python3.6/site-packages (from h5py==2.10.0->deeppavlov) (1.15.0)\n",
      "Requirement already satisfied: python-dateutil>=2.6.1 in /home/justaman/education/8/cource_work/bot_env/lib/python3.6/site-packages (from pandas==0.25.3->deeppavlov) (2.8.1)\n",
      "Requirement already satisfied: dataclasses>=0.6 in /home/justaman/education/8/cource_work/bot_env/lib/python3.6/site-packages (from pydantic==1.3->deeppavlov) (0.8)\n",
      "Requirement already satisfied: pymorphy2-dicts<3.0,>=2.4 in /home/justaman/education/8/cource_work/bot_env/lib/python3.6/site-packages (from pymorphy2==0.8->deeppavlov) (2.4.393442.3710985)\n",
      "Requirement already satisfied: dawg-python>=0.7 in /home/justaman/education/8/cource_work/bot_env/lib/python3.6/site-packages (from pymorphy2==0.8->deeppavlov) (0.7.2)\n",
      "Requirement already satisfied: docopt>=0.6 in /home/justaman/education/8/cource_work/bot_env/lib/python3.6/site-packages (from pymorphy2==0.8->deeppavlov) (0.6.2)\n",
      "Requirement already satisfied: cryptography>=2.8 in /home/justaman/education/8/cource_work/bot_env/lib/python3.6/site-packages (from pyopenssl==19.1.0->deeppavlov) (3.4.7)\n",
      "Requirement already satisfied: idna<2.9,>=2.5 in /home/justaman/education/8/cource_work/bot_env/lib/python3.6/site-packages (from requests==2.22.0->deeppavlov) (2.8)\n",
      "Requirement already satisfied: urllib3!=1.25.0,!=1.25.1,<1.26,>=1.21.1 in /home/justaman/education/8/cource_work/bot_env/lib/python3.6/site-packages (from requests==2.22.0->deeppavlov) (1.25.11)\n",
      "Requirement already satisfied: certifi>=2017.4.17 in /home/justaman/education/8/cource_work/bot_env/lib/python3.6/site-packages (from requests==2.22.0->deeppavlov) (2020.12.5)\n",
      "Requirement already satisfied: chardet<3.1.0,>=3.0.2 in /home/justaman/education/8/cource_work/bot_env/lib/python3.6/site-packages (from requests==2.22.0->deeppavlov) (3.0.4)\n",
      "Requirement already satisfied: joblib in /home/justaman/education/8/cource_work/bot_env/lib/python3.6/site-packages (from sacremoses==0.0.35->deeppavlov) (1.0.1)\n",
      "Requirement already satisfied: h11<0.10,>=0.8 in /home/justaman/education/8/cource_work/bot_env/lib/python3.6/site-packages (from uvicorn==0.11.7->deeppavlov) (0.9.0)\n",
      "Requirement already satisfied: httptools==0.1.* in /home/justaman/education/8/cource_work/bot_env/lib/python3.6/site-packages (from uvicorn==0.11.7->deeppavlov) (0.1.2)\n",
      "Requirement already satisfied: websockets==8.* in /home/justaman/education/8/cource_work/bot_env/lib/python3.6/site-packages (from uvicorn==0.11.7->deeppavlov) (8.1)\n",
      "Requirement already satisfied: pamqp==2.3.0 in /home/justaman/education/8/cource_work/bot_env/lib/python3.6/site-packages (from aiormq<4,>=3.2.0->aio-pika==6.4.1->deeppavlov) (2.3.0)\n",
      "Requirement already satisfied: cffi>=1.12 in /home/justaman/education/8/cource_work/bot_env/lib/python3.6/site-packages (from cryptography>=2.8->pyopenssl==19.1.0->deeppavlov) (1.14.5)\n",
      "Requirement already satisfied: pycparser in /home/justaman/education/8/cource_work/bot_env/lib/python3.6/site-packages (from cffi>=1.12->cryptography>=2.8->pyopenssl==19.1.0->deeppavlov) (2.20)\n",
      "Requirement already satisfied: typing-extensions>=3.7.4 in /home/justaman/education/8/cource_work/bot_env/lib/python3.6/site-packages (from yarl->aio-pika==6.4.1->deeppavlov) (3.7.4.3)\n",
      "Requirement already satisfied: multidict>=4.0 in /home/justaman/education/8/cource_work/bot_env/lib/python3.6/site-packages (from yarl->aio-pika==6.4.1->deeppavlov) (5.1.0)\n",
      "\u001b[33mWARNING: You are using pip version 21.0.1; however, version 21.1.2 is available.\n",
      "You should consider upgrading via the '/home/justaman/education/8/cource_work/bot_env/bin/python -m pip install --upgrade pip' command.\u001b[0m\n"
     ]
    }
   ],
   "source": [
    "!pip3 install deeppavlov\n"
   ]
  },
  {
   "cell_type": "code",
   "execution_count": 2,
   "id": "spoken-bread",
   "metadata": {},
   "outputs": [
    {
     "ename": "NameError",
     "evalue": "name 'model' is not defined",
     "output_type": "error",
     "traceback": [
      "\u001b[0;31m---------------------------------------------------------------------------\u001b[0m",
      "\u001b[0;31mNameError\u001b[0m                                 Traceback (most recent call last)",
      "\u001b[0;32m<ipython-input-2-4bfbff5b168a>\u001b[0m in \u001b[0;36m<module>\u001b[0;34m\u001b[0m\n\u001b[1;32m      1\u001b[0m \u001b[0;32mimport\u001b[0m \u001b[0mpickle\u001b[0m\u001b[0;34m\u001b[0m\u001b[0;34m\u001b[0m\u001b[0m\n\u001b[1;32m      2\u001b[0m \u001b[0;32mwith\u001b[0m \u001b[0mopen\u001b[0m\u001b[0;34m(\u001b[0m\u001b[0;34m'../model.pkl'\u001b[0m\u001b[0;34m,\u001b[0m \u001b[0;34m'rb'\u001b[0m\u001b[0;34m)\u001b[0m \u001b[0;32mas\u001b[0m \u001b[0mmf\u001b[0m\u001b[0;34m:\u001b[0m\u001b[0;34m\u001b[0m\u001b[0;34m\u001b[0m\u001b[0m\n\u001b[0;32m----> 3\u001b[0;31m     \u001b[0mpickle\u001b[0m\u001b[0;34m.\u001b[0m\u001b[0mload\u001b[0m\u001b[0;34m(\u001b[0m\u001b[0mmodel\u001b[0m\u001b[0;34m,\u001b[0m \u001b[0mmf\u001b[0m\u001b[0;34m)\u001b[0m\u001b[0;34m\u001b[0m\u001b[0;34m\u001b[0m\u001b[0m\n\u001b[0m",
      "\u001b[0;31mNameError\u001b[0m: name 'model' is not defined"
     ]
    }
   ],
   "source": [
    "import pickle\n",
    "\n",
    "with open('../model.pkl', 'rb') as mf:\n",
    "    pickle.load(model, mf)"
   ]
  },
  {
   "cell_type": "code",
   "execution_count": 4,
   "id": "twenty-monster",
   "metadata": {},
   "outputs": [
    {
     "ename": "ModuleNotFoundError",
     "evalue": "No module named 'deeppavlov'",
     "output_type": "error",
     "traceback": [
      "\u001b[0;31m---------------------------------------------------------------------------\u001b[0m",
      "\u001b[0;31mModuleNotFoundError\u001b[0m                       Traceback (most recent call last)",
      "\u001b[0;32m<ipython-input-4-6aeb1bfd0d49>\u001b[0m in \u001b[0;36m<module>\u001b[0;34m\u001b[0m\n\u001b[0;32m----> 1\u001b[0;31m \u001b[0;32mfrom\u001b[0m \u001b[0mdeeppavlov\u001b[0m \u001b[0;32mimport\u001b[0m \u001b[0mconfigs\u001b[0m\u001b[0;34m\u001b[0m\u001b[0;34m\u001b[0m\u001b[0m\n\u001b[0m",
      "\u001b[0;31mModuleNotFoundError\u001b[0m: No module named 'deeppavlov'"
     ]
    }
   ],
   "source": [
    "from deeppavlov import configs\n"
   ]
  },
  {
   "cell_type": "code",
   "execution_count": 3,
   "id": "commercial-thomson",
   "metadata": {},
   "outputs": [
    {
     "ename": "ModuleNotFoundError",
     "evalue": "No module named 'deeppavlov'",
     "output_type": "error",
     "traceback": [
      "\u001b[0;31m---------------------------------------------------------------------------\u001b[0m",
      "\u001b[0;31mModuleNotFoundError\u001b[0m                       Traceback (most recent call last)",
      "\u001b[0;32m<ipython-input-3-aaa20b901d81>\u001b[0m in \u001b[0;36m<module>\u001b[0;34m\u001b[0m\n\u001b[0;32m----> 1\u001b[0;31m \u001b[0;32mfrom\u001b[0m \u001b[0mdeeppavlov\u001b[0m\u001b[0;34m.\u001b[0m\u001b[0mcore\u001b[0m\u001b[0;34m.\u001b[0m\u001b[0mcommon\u001b[0m\u001b[0;34m.\u001b[0m\u001b[0mfile\u001b[0m \u001b[0;32mimport\u001b[0m \u001b[0mread_json\u001b[0m\u001b[0;34m\u001b[0m\u001b[0;34m\u001b[0m\u001b[0m\n\u001b[0m\u001b[1;32m      2\u001b[0m \u001b[0;32mfrom\u001b[0m \u001b[0mdeeppavlov\u001b[0m \u001b[0;32mimport\u001b[0m \u001b[0mbuild_model\u001b[0m\u001b[0;34m,\u001b[0m \u001b[0mtrain_model\u001b[0m\u001b[0;34m\u001b[0m\u001b[0;34m\u001b[0m\u001b[0m\n\u001b[1;32m      3\u001b[0m \u001b[0mdata_path\u001b[0m \u001b[0;34m=\u001b[0m \u001b[0;34m'datasets/train_new2.csv'\u001b[0m\u001b[0;34m\u001b[0m\u001b[0;34m\u001b[0m\u001b[0m\n",
      "\u001b[0;31mModuleNotFoundError\u001b[0m: No module named 'deeppavlov'"
     ]
    }
   ],
   "source": [
    "from deeppavlov.core.common.file import read_json\n",
    "from deeppavlov import build_model, train_model\n",
    "data_path = 'datasets/train_new2.csv'"
   ]
  }
 ],
 "metadata": {
  "kernelspec": {
   "display_name": "bot_env",
   "language": "python",
   "name": "bot_env"
  },
  "language_info": {
   "codemirror_mode": {
    "name": "ipython",
    "version": 3
   },
   "file_extension": ".py",
   "mimetype": "text/x-python",
   "name": "python",
   "nbconvert_exporter": "python",
   "pygments_lexer": "ipython3",
   "version": "3.6.9"
  }
 },
 "nbformat": 4,
 "nbformat_minor": 5
}
